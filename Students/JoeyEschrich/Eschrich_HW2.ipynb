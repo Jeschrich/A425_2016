{
 "cells": [
  {
   "cell_type": "markdown",
   "metadata": {},
   "source": [
    "# Joey Eschrich - Problem Set 2"
   ]
  },
  {
   "cell_type": "code",
   "execution_count": 3,
   "metadata": {
    "collapsed": true
   },
   "outputs": [],
   "source": [
    "#imports\n",
    "import numpy as np"
   ]
  },
  {
   "cell_type": "markdown",
   "metadata": {},
   "source": [
    "**1)** If we lived in a Olberian universe (a) caclulate the distance at which any random line-of-sight will intersect the surface of a star (this is referred to as the point at which the optical depth of uniformly distributed stars is unity).\n",
    "\n",
    "Assume all the stars have the same luminosity as the Sun, the average number density of stars is 10<sup>9</sup> Mpc<sup>-3</sup>, and the radius of the star is 7x10<sup>8</sup>m."
   ]
  },
  {
   "cell_type": "code",
   "execution_count": 6,
   "metadata": {
    "collapsed": true
   },
   "outputs": [],
   "source": [
    "#Define constant variables\n",
    "l_Sun      = 3.828 * 10**26      #Lunimosity of the Sun in Watts (W)\n",
    "numden_avg = 10**9               #Assumed average number denisity of stars in inverse Megaparsecs cubed (Mpc**-3)\n",
    "r_star     = 7 * 10**8           #Asummed star radius in meters (m)\n"
   ]
  },
  {
   "cell_type": "code",
   "execution_count": 19,
   "metadata": {
    "collapsed": false
   },
   "outputs": [
    {
     "ename": "SyntaxError",
     "evalue": "invalid syntax (<ipython-input-19-faca5480fae5>, line 1)",
     "output_type": "error",
     "traceback": [
      "\u001b[0;36m  File \u001b[0;32m\"<ipython-input-19-faca5480fae5>\"\u001b[0;36m, line \u001b[0;32m1\u001b[0m\n\u001b[0;31m    Delete cell\u001b[0m\n\u001b[0m              ^\u001b[0m\n\u001b[0;31mSyntaxError\u001b[0m\u001b[0;31m:\u001b[0m invalid syntax\n"
     ]
    }
   ],
   "source": [
    "#Delete cell\n",
    "\n",
    "\n",
    "\n",
    "#Area of a circle (for viewing a sphere)\n",
    "#Input: meters (m)\n",
    "#Output: meters squared (m^2)\n",
    "def A (r):\n",
    "    return 4*np.pi*r**2\n",
    "#A_star = A(r_star)\n",
    "\n",
    "#Calulate the radius to the edge of a spherical volume \n",
    "def r_sphere (v):\n",
    "    return (3/(np.pi*4) * v)**(1/3)\n",
    "\n",
    "#Function for how many stars are need to fill the sky based off of distance away.\n",
    "def num_fit(v):\n",
    "    A_CelSphere = A(r_sphere(v))\n",
    "    A_star = A(r_star)\n",
    "    return A_CelSphere/A_star\n",
    "num_fit(2.938*10**67)\n",
    "\n",
    "3/(A(r_star) * 10*9 * 2.938*10**-67)\n",
    "#num_fit((4/3)*np.pi*(3/(A(r_star) * 10*9 * 2.938*10**-67))**3)"
   ]
  },
  {
   "cell_type": "markdown",
   "metadata": {
    "collapsed": true
   },
   "source": [
    "**2)** When Edwin Hubble measured the expansion rate of the universe he derived a Hubble's constant of 500 km s<sup>-1</sup> Mpc<sup>-1</sup>.  To get this value of H<sub>o</sub> how incorrect were his estimates of the distance to Cepheid stars.  How does his value of the universe change the age of the universe and would we need to live in an accelerating or decelerating universe in order to reconcile the Hubble time with the current age of the universe (13.7 Gyr).  Remember to explain your answers."
   ]
  },
  {
   "cell_type": "markdown",
   "metadata": {},
   "source": [
    "His vaule of H<sub>o</sub> was 7.24 times higher than the currently accepted value of 69 km s<sup>-1</sup> Mpc<sup>-1</sup>.  If we assume that his velocity measurements were accurate, Hubble's Law <inline>v = H<sub>o</sub>r</inline> shows that his distance measurements were also off by a factor of 7.24.\n",
    "\n",
    "His value for the age of the universe would be <inline>$\\frac{1}{H_o}$ = 196 Myr </inline>. To resolve this with the currently accepted value for the age of the universe, 13.7 Gyr, we would have to be living in an accelerating universe.  Hubble's variable depends on time as <inline>H<sub>o</sub> = $\\frac{\\dot{a}(t)}{a(t)}$"
   ]
  },
  {
   "cell_type": "code",
   "execution_count": 23,
   "metadata": {
    "collapsed": false
   },
   "outputs": [
    {
     "data": {
      "text/plain": [
       "195688015.2187698"
      ]
     },
     "execution_count": 23,
     "metadata": {},
     "output_type": "execute_result"
    }
   ],
   "source": [
    "#converting these strange strange units to something not rediculous\n",
    "Hub_measured = 500 * 1000 / (3.086*10**22)\n",
    "#Hub_measured\n",
    "(1/Hub_measured) /(3.154*10**8)"
   ]
  },
  {
   "cell_type": "code",
   "execution_count": null,
   "metadata": {
    "collapsed": true
   },
   "outputs": [],
   "source": []
  }
 ],
 "metadata": {
  "anaconda-cloud": {},
  "kernelspec": {
   "display_name": "Python [conda env:py3]",
   "language": "python",
   "name": "conda-env-py3-py"
  },
  "language_info": {
   "codemirror_mode": {
    "name": "ipython",
    "version": 3
   },
   "file_extension": ".py",
   "mimetype": "text/x-python",
   "name": "python",
   "nbconvert_exporter": "python",
   "pygments_lexer": "ipython3",
   "version": "3.5.2"
  }
 },
 "nbformat": 4,
 "nbformat_minor": 1
}
